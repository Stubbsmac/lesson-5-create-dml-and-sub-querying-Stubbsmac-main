{
    "metadata": {
        "kernelspec": {
            "name": "SQL",
            "display_name": "SQL",
            "language": "sql"
        },
        "language_info": {
            "name": "sql",
            "version": ""
        }
    },
    "nbformat_minor": 2,
    "nbformat": 4,
    "cells": [
        {
            "cell_type": "markdown",
            "source": [
                "# Data Manipulation Language (DML) and Subquerying"
            ],
            "metadata": {
                "azdata_cell_guid": "f7d0b9fa-fd9f-49ad-842b-0d4c38448141"
            },
            "attachments": {}
        },
        {
            "cell_type": "markdown",
            "source": [
                "## **Introduction**\n",
                "\n",
                "Data Manipulation Language (DML) is a subset of SQL used for adding, deleting, and modifying data in a database. \n",
                "\n",
                "**Data Manipulation Language Keywords:**\n",
                "\n",
                "- INSERT- Adds data into an existing object\n",
                "- UPDATE- Modifies existing data in an object\n",
                "- DELETE- Removes existing data from an object\n",
                "\n",
                "It is crucial that you have an understanding of DML to properly administrate and interact with a database. Up to this point we have focused on data retrevial techniques like forming SELECT queries using JOINs, Aggregation. We will expand on your retrieval skills by learning to construct subqueries."
            ],
            "metadata": {
                "azdata_cell_guid": "f93093f2-dbb0-4715-8d2c-ffb8ba8334ee"
            },
            "attachments": {}
        },
        {
            "cell_type": "markdown",
            "source": [
                "## **Inserting Data**\n",
                "\n",
                "Inserting data is a very common DML process. All of the data we are have been working with this semester has been inserted using INSERT statements. INSERT statements have a very straightforward syntax. The basic structure of an INSERT STATEMENT is defined below:\n",
                "\n",
                "1. Begin with INSERT INTO\n",
                "2. Type the table name\n",
                "3. Inside of parenthesis, list the column names you would like to insert into.\n",
                "4. If you are inserting into all columns, you can actually skip step 3. For tables that have an autoincrementing field, you must complete step 3.\n",
                "5. Use the VALUES keyword to let the database engine know that you are providing data\n",
                "6. In parethesis, list out the data you would like to insert. You can insert multiple rows by placing a comma after your closing parenthesis and beginning a new set\n",
                "\n",
                "Below is an example of an INSERT query that is adding data to the ap\\_airline table. We start by specifiying which columns we are adding data to, then we list the values in parenthesis.\n",
                "\n",
                "Please run the below cells in order:\n",
                "\n",
                "1. Cell with the SELECT query to view all records in the ap\\_airline table\n",
                "2. Cell with INSERT INTO query to add a record\n",
                "3. Second cell with SELECT query to see the new data in your dataset."
            ],
            "metadata": {
                "azdata_cell_guid": "27c8facc-199d-41f7-881e-d2f8123728d2"
            },
            "attachments": {}
        },
        {
            "cell_type": "code",
            "source": [
                "--View all records for ap_airline\n",
                "SELECT *\n",
                "FROM ap_airline"
            ],
            "metadata": {
                "azdata_cell_guid": "813d67ba-0520-44d9-bd5a-673a2d3b8972",
                "language": "sql"
            },
            "outputs": [],
            "execution_count": null
        },
        {
            "cell_type": "code",
            "source": [
                "--Insert one new record into ap_airline\n",
                "INSERT INTO ap_airline (airline_id, airline_name)\n",
                "VALUES (6,'Sprint Air')"
            ],
            "metadata": {
                "azdata_cell_guid": "c7a1e949-4410-4459-9b14-69a69c75f29d",
                "language": "sql"
            },
            "outputs": [],
            "execution_count": null
        },
        {
            "cell_type": "code",
            "source": [
                "--View all records (including new record) for ap_airline\n",
                "SELECT *\n",
                "FROM ap_airline"
            ],
            "metadata": {
                "language": "sql",
                "azdata_cell_guid": "99a9c373-0382-49fa-9695-8f33fef6c99b"
            },
            "outputs": [],
            "execution_count": null
        },
        {
            "cell_type": "markdown",
            "source": [
                "If we are adding data to every column in a table, then we can use _simple_ INSERT statements like below:"
            ],
            "metadata": {
                "azdata_cell_guid": "4259414a-d30f-4e35-9c3b-b91ada4236bf"
            },
            "attachments": {}
        },
        {
            "cell_type": "code",
            "source": [
                "--Insert data into all columns of ap_airline\n",
                "INSERT INTO ap_airline\n",
                "VALUES (7, 'Ultra Air')"
            ],
            "metadata": {
                "azdata_cell_guid": "c1197c30-7cc1-49fa-955d-3bea74338dd5",
                "language": "sql"
            },
            "outputs": [],
            "execution_count": null
        },
        {
            "cell_type": "code",
            "source": [
                "--View new recod in ap_airline\n",
                "SELECT *\n",
                "FROM ap_airline"
            ],
            "metadata": {
                "language": "sql",
                "azdata_cell_guid": "c5adca9a-b842-4072-86a4-20b0eea279a1"
            },
            "outputs": [],
            "execution_count": null
        },
        {
            "cell_type": "markdown",
            "source": [
                "Using this syntax makes it easy to add several rows to a table at once. We do this by separating the data for each row with parenthesis. In the below example we add 3 new rows to the ap\\_flight table."
            ],
            "metadata": {
                "language": "sql",
                "azdata_cell_guid": "1a460b4a-364b-4e2d-ad4d-f019f8183664"
            },
            "attachments": {}
        },
        {
            "cell_type": "code",
            "source": [
                "--Add three rows to ap_flight\n",
                "INSERT INTO ap_flight\n",
                "VALUES (6,6,'SA987','St Louis'),\n",
                "(7,7,'UA293','Kansas City'),\n",
                "(8,7,'UA829','Pheonix')"
            ],
            "metadata": {
                "language": "sql",
                "azdata_cell_guid": "d2b36de1-866f-42c4-820b-682b41502033"
            },
            "outputs": [],
            "execution_count": null
        },
        {
            "cell_type": "code",
            "source": [
                "--View new records in ap_flight\n",
                "SELECT *\n",
                "FROM ap_flight"
            ],
            "metadata": {
                "language": "sql",
                "azdata_cell_guid": "5bfcc03f-31e9-465f-b2c1-e1789dd009a4"
            },
            "outputs": [],
            "execution_count": null
        },
        {
            "cell_type": "markdown",
            "source": [
                "### ✏️ **Practice**\n",
                "\n",
                "Try adding some data to the ap\\_customer table. I've started the query for you. Please complete it to add the following information (4 rows):\n",
                "|customer_id|first_name|last_name|date_of_birth|\n",
                "|---|---|---|---|\n",
                "|6|Alice|Dawn|1997-07-21|\n",
                "|7|Jacob|Swift|1999-02-18|\n",
                "|8|Bob|Horton|1987-04-29|\n",
                "|9|Kate|Barnett|1997-06-22|"
            ],
            "metadata": {
                "language": "sql",
                "azdata_cell_guid": "875b6471-c5f3-43d3-a426-b3e842f4acc8"
            },
            "attachments": {}
        },
        {
            "cell_type": "code",
            "source": [
                "INSERT INTO ap_customer\n",
                ""
            ],
            "metadata": {
                "language": "sql",
                "azdata_cell_guid": "c75c5796-5ec6-4240-8596-82ea53799d21",
                "tags": []
            },
            "outputs": [],
            "execution_count": null
        },
        {
            "cell_type": "markdown",
            "source": [
                "## **Updating Data**\n",
                "\n",
                "We can update data in SQL using the UPDATE keyword. Updates are simple to write, but very easy to mess up. You have to make sure that you are specific about what data you are wanting to update. If you do not properly select which data you are updating, you could end up changing all of the data in the table. Below is an example of an update statement for the ap\\_flight table where we change the destination of flight GW789 to Tokyo."
            ],
            "metadata": {
                "language": "sql",
                "azdata_cell_guid": "b64fc5e3-d6f6-4f4f-b373-ff0a0a6aab40"
            },
            "attachments": {}
        },
        {
            "cell_type": "code",
            "source": [
                "UPDATE ap_flight SET destination = 'Tokyo' --The SET keyword is used to identify which column needs updated.\n",
                "WHERE flight_number = 'GW789' --The WHERE clause here is to ensure we only update a specific row"
            ],
            "metadata": {
                "language": "sql",
                "azdata_cell_guid": "10521dbe-5e96-4be2-96d7-c71cb9abe3ed",
                "tags": []
            },
            "outputs": [],
            "execution_count": null
        },
        {
            "cell_type": "markdown",
            "source": [
                "You can also update multiple fields at once in the same update query. You only need to seperate each column/value combination with commas in the following pattern:\n",
                "\n",
                "UPDATE TableName\n",
                "\n",
                "SET Column1 = Value1,\n",
                "\n",
                "Column2 = Value2,\n",
                "\n",
                "Column3 = Value3\n",
                "\n",
                "WHERE SomeColumn = SomeCriteria\n",
                "\n",
                "In the below example we are updating the first name, last name, and birthdate of one of the customers we added in a prior query."
            ],
            "metadata": {
                "language": "sql",
                "azdata_cell_guid": "a3d9aeff-43f3-4a95-b228-65eb17bd5255"
            },
            "attachments": {}
        },
        {
            "cell_type": "code",
            "source": [
                "UPDATE ap_customer SET first_name = 'Avery',\n",
                "last_name = 'Grambs',\n",
                "date_of_birth = '2003-10-18'\n",
                "WHERE customer_id = 8"
            ],
            "metadata": {
                "language": "sql",
                "azdata_cell_guid": "0ec4c9fe-e6c7-4186-8ac3-ba9970fca6eb"
            },
            "outputs": [],
            "execution_count": null
        },
        {
            "cell_type": "code",
            "source": [
                "--View newly updated record\n",
                "SELECT *\n",
                "FROM ap_customer"
            ],
            "metadata": {
                "language": "sql",
                "azdata_cell_guid": "be7a8f47-e9fb-4d13-8a82-8c3e82618007"
            },
            "outputs": [],
            "execution_count": null
        },
        {
            "cell_type": "markdown",
            "source": [
                "UPDATE queries are powerful tools for making changes to our data, but can be catastrophic when used incorrectly. The below cell has an executable (but inmproper) UPDATE statement.\n",
                "\n",
                "  \n",
                "\n",
                "The intention of the below cell is to update the destination for a single flight, but because the author did not use a WHERE clause, all rows are updated. Run the cell and obeserve the result."
            ],
            "metadata": {
                "language": "sql",
                "azdata_cell_guid": "68cdfdb2-c945-42f2-8fb9-6fd3f92d7cee"
            },
            "attachments": {}
        },
        {
            "cell_type": "code",
            "source": [
                "--Update destination for flight UA293 (Incorrect)\n",
                "UPDATE ap_flight SET destination = 'Paris'"
            ],
            "metadata": {
                "language": "sql",
                "azdata_cell_guid": "852ad49f-f7e3-43eb-b4d4-6ed67521dc51",
                "tags": [
                    "hide_input"
                ]
            },
            "outputs": [],
            "execution_count": null
        },
        {
            "cell_type": "code",
            "source": [
                "SELECT *\n",
                "FROM ap_flight"
            ],
            "metadata": {
                "language": "sql",
                "azdata_cell_guid": "a3d1680c-a7d2-4ac2-8c15-709d590b48cb"
            },
            "outputs": [],
            "execution_count": null
        },
        {
            "cell_type": "markdown",
            "source": [
                "We can see that all rows were updated with the new destination, instead of the intended row. We hav eno protections in place to correct errors like these when they occur, so for now you will have to be careful when authoring UPDATE scripts.\n",
                "\n",
                "Run the below cell to fix the errors that the last script created."
            ],
            "metadata": {
                "language": "sql",
                "azdata_cell_guid": "43a4d211-3886-48b3-803c-f9b63aa4a65d"
            },
            "attachments": {}
        },
        {
            "cell_type": "code",
            "source": [
                "--Repair data in flight table\n",
                "UPDATE ap_flight SET destination = 'New York' WHERE flight_id = 1\n",
                "UPDATE ap_flight SET destination = 'Los Angeles' WHERE flight_id = 2\n",
                "UPDATE ap_flight SET destination = 'Chicago' WHERE flight_id = 3\n",
                "UPDATE ap_flight SET destination = 'Miami' WHERE flight_id = 4\n",
                "UPDATE ap_flight SET destination = 'Tokyo' WHERE flight_id = 5\n",
                "UPDATE ap_flight SET destination = 'St Louis' WHERE flight_id = 6\n",
                "UPDATE ap_flight SET destination = 'Kansas City' WHERE flight_id = 7\n",
                "UPDATE ap_flight SET destination = 'Pheonix' WHERE flight_id = 8\n",
                ""
            ],
            "metadata": {
                "language": "sql",
                "azdata_cell_guid": "9e80a9db-be67-4eb2-a635-2eec40787354"
            },
            "outputs": [],
            "execution_count": null
        },
        {
            "cell_type": "code",
            "source": [
                "--Verify that data is resotred\n",
                "SELECT *\n",
                "FROM ap_flight"
            ],
            "metadata": {
                "language": "sql",
                "azdata_cell_guid": "74144cb9-50aa-46eb-8947-b2a782a84977",
                "tags": []
            },
            "outputs": [],
            "execution_count": null
        },
        {
            "cell_type": "markdown",
            "source": [
                "### ✏️ **Practice**\n",
                "\n",
                "Construct an UPDATE script to correct an error in the passport number for customer 4. They system shows _P456789_ but their passport number is acutally _P456889._ Please ensure that you are only updating the data for the specified row."
            ],
            "metadata": {
                "language": "sql",
                "azdata_cell_guid": "2cfcdc56-c51d-4eb0-80f4-b877f47fd50e"
            },
            "attachments": {}
        },
        {
            "cell_type": "code",
            "source": [
                "--Your code here"
            ],
            "metadata": {
                "language": "sql",
                "azdata_cell_guid": "cab4ca45-e63a-46f0-b71c-588a75e1c6a2"
            },
            "outputs": [],
            "execution_count": null
        },
        {
            "cell_type": "code",
            "source": [
                "--Check your work\n",
                "SELECT *\n",
                "FROM ap_passport"
            ],
            "metadata": {
                "language": "sql",
                "azdata_cell_guid": "34393b48-742b-4fce-92a8-ca47633dcd83"
            },
            "outputs": [],
            "execution_count": null
        },
        {
            "cell_type": "markdown",
            "source": [
                "## **Deleting Data**\n",
                "\n",
                "Deleting is one of the most simple DML tools to script, but similar to updating, it is easy to make mistakes and mess up your data. The most important thing to keep in mind when deleting is that you must have a where condition to specify which rows to delete, or you may delete all of the data in the table. Below is a deletion example where we are deleting a boarding pass from the ap\\_boarding\\_pass table."
            ],
            "metadata": {
                "azdata_cell_guid": "f7e36d7b-e0e3-4f1b-80da-ab7561aa5cf6"
            },
            "attachments": {}
        },
        {
            "cell_type": "code",
            "source": [
                "--Delete Boarding Pass BP567890123456789 from table\n",
                "DELETE\n",
                "FROM ap_boarding_pass\n",
                "WHERE boarding_pass_number = 'BP567890123456789'"
            ],
            "metadata": {
                "azdata_cell_guid": "96c14ea7-747d-4cb8-bc1c-eaf1e7cf2171",
                "language": "sql"
            },
            "outputs": [],
            "execution_count": null
        },
        {
            "cell_type": "code",
            "source": [
                "--Verify that this boarding pass number is not in the dataset anymore\n",
                "SELECT *\n",
                "FROM ap_boarding_pass"
            ],
            "metadata": {
                "language": "sql",
                "azdata_cell_guid": "f0eae74e-28f4-49a2-b114-ecee1b4540e5"
            },
            "outputs": [],
            "execution_count": null
        },
        {
            "cell_type": "markdown",
            "source": [
                "Just like when we are updating data, we _must_ use a WHERE clause to specify which data we want to delete, or we will delete all of the data from the table.\n",
                "\n",
                "  \n",
                "\n",
                "Although we haven't discussed constraints, we cannot properly address DELETE queries without a brief introduction. When we assign a value as a FK in a table, this means that value must exist in the table that it is related to. For example, we cannot have customer\\_id 9 in our boarding pass table, because there is no related record in the customer table.\n",
                "\n",
                "  \n",
                "\n",
                "This is important when discussing DELETE queries because these constraints will prevent us from deleting data that will cause there to be FKs without corresponding primary keys.\n",
                "\n",
                "  \n",
                "\n",
                "The below query _attempts_ to delete a customer, but the system will prevent this operation because that customer has a record in the boarding\\_pass table. Try it now and review the error we recieve."
            ],
            "metadata": {
                "language": "sql",
                "azdata_cell_guid": "d7849a41-fd06-4719-b61a-ba64e7a85443"
            },
            "attachments": {}
        },
        {
            "cell_type": "code",
            "source": [
                "DELETE\n",
                "FROM ap_customer\n",
                "WHERE customer_id = 1"
            ],
            "metadata": {
                "language": "sql",
                "azdata_cell_guid": "a5513ef5-c8b4-4a45-9bd5-d55c8e44a295"
            },
            "outputs": [],
            "execution_count": null
        },
        {
            "cell_type": "markdown",
            "source": [
                "There are three parts to this error message:\n",
                "\n",
                "1. Location of the error (line 1)\n",
                "2. Error Description (The DELETE statement.....)\n",
                "3. Error Specifics (FK\\_\\_ap\\_boardi\\_\\_custo\\_\\_45BE5Ba9......)\n",
                "4. The error specifics lists the name of the constraint that has been violated and provides the table and column that the constraint is associated with.\n",
                "\n",
                "This means that to delete a record that has an _active_ FK in other tables, you first must delete the related records, and then delete the _source_ record.\n",
                "\n",
                "  \n",
                "\n",
                "customer\\_id is a FK in two tables: boarding\\_pass and passport. Before we can delete a customer we must delete their corresponding records in each of these tables."
            ],
            "metadata": {
                "azdata_cell_guid": "7420090b-ae4c-493d-845a-5ff0a4a7ca7b"
            },
            "attachments": {}
        },
        {
            "cell_type": "code",
            "source": [
                "--Delete Customer from passport\n",
                "DELETE\n",
                "FROM ap_passport\n",
                "WHERE customer_id = 1\n",
                "\n",
                "--Delete customer from boarding_pass\n",
                "DELETE\n",
                "FROM ap_boarding_pass\n",
                "WHERE customer_id = 1\n",
                "\n",
                "--Delete customer from customer\n",
                "DELETE\n",
                "FROM ap_customer\n",
                "WHERE customer_id = 1"
            ],
            "metadata": {
                "azdata_cell_guid": "cf943a7c-40b6-4f3d-8906-426b6b3ae276",
                "language": "sql"
            },
            "outputs": [],
            "execution_count": null
        },
        {
            "cell_type": "code",
            "source": [
                "--Verify Deletion in all three tables\n",
                "SELECT *\n",
                "FROM ap_customer \n",
                "\n",
                "SELECT *\n",
                "FROM ap_passport\n",
                "\n",
                "SELECT *\n",
                "FROM ap_boarding_pass"
            ],
            "metadata": {
                "language": "sql",
                "azdata_cell_guid": "962d0662-2cdb-4cef-83a8-945d866bbe10"
            },
            "outputs": [],
            "execution_count": null
        },
        {
            "cell_type": "markdown",
            "source": [
                "## **Subqueries**\n",
                "\n",
                "Subqueries allow us to nest an existing query within a new query. The purpose of a subquery is to process data, that has already been processed at least once. The three main reasons that we would do this are:\n",
                "\n",
                "- Implment an aggregated value into a WHERE clause\n",
                "- Use the return of a query as a data source in the FROM clause\n",
                "- Check to see if a value is present in the return of another query using the IN operator\n",
                "\n",
                "For the rest of this notebook, we will be shifting to a new database called Storage Unit. The Storage Unit database keeps track of information related to the rental of storage units. Please review the ERD in Github for familiarity.\n",
                "\n",
                "We will start with a query that implements an aggregate value into the WHERE clause. When using this technique, you must make sure that your _inner_ query only returns one record. For this query we will be seeing which customers are recieving the maximum discount. We will solve this problem in two phases:\n",
                "\n",
                "- Phase 1: Write a query to get the maximum discount"
            ],
            "metadata": {
                "azdata_cell_guid": "123e9943-d9f4-4c80-89b8-57867c0a0f5c"
            },
            "attachments": {}
        },
        {
            "cell_type": "code",
            "source": [
                "--Get maximum discount amount from rental table. (Inner Query)\n",
                "SELECT MAX(r.discount_amount)\n",
                "FROM su_rental as r"
            ],
            "metadata": {
                "azdata_cell_guid": "0a594e99-6696-4a2d-8905-e2abb4271a75",
                "language": "sql"
            },
            "outputs": [],
            "execution_count": null
        },
        {
            "cell_type": "markdown",
            "source": [
                "- Phase 2: Write a query that pulls the customer name for each rental that is recieving the max discount"
            ],
            "metadata": {
                "azdata_cell_guid": "4f2a5ca3-bfd6-40d3-bb68-379c2d62ef53"
            },
            "attachments": {}
        },
        {
            "cell_type": "code",
            "source": [
                "--Get customer info for rentals recieving max discount (Outer query)\n",
                "--Select fields to return\n",
                "SELECT c.first_name, c.last_name\n",
                "FROM su_customer as c\n",
                "JOIN su_rental as r ON c.customer_id = r.customer_id\n",
                "--Add subquery from phase 1 to WHERE clause\n",
                "WHERE r.discount_amount = (\n",
                "    SELECT MAX(r.discount_amount)\n",
                "    FROM su_rental as r\n",
                ")"
            ],
            "metadata": {
                "azdata_cell_guid": "afb0f4a6-7939-46ef-8641-ebe84b7b6f80",
                "language": "sql"
            },
            "outputs": [],
            "execution_count": null
        },
        {
            "cell_type": "markdown",
            "source": [
                "We can also use subqueries in our FROM clauses. There may be times that we need to use another query's result as if it is a table. We refer to these as derived tables. In this instance we can have as many columns and records in the inner query as we want. For the below example, we will find the average discount given for each type of unit. We will complete this in two phases:\n",
                "\n",
                "- Phase 1: Write a query to select the average discount for each type\\_id"
            ],
            "metadata": {
                "language": "sql",
                "azdata_cell_guid": "7e519975-57f6-40df-94f2-fa36da563abc"
            },
            "attachments": {}
        },
        {
            "cell_type": "code",
            "source": [
                "SELECT type_id, AVG(discount_amount) as max_discount\n",
                "FROM su_rental AS r\n",
                "JOIN su_unit u ON r.unit_id = u.unit_id\n",
                "GROUP BY type_id"
            ],
            "metadata": {
                "language": "sql",
                "azdata_cell_guid": "ebe52f8a-d917-494d-a26a-46b52a77cff2"
            },
            "outputs": [],
            "execution_count": null
        },
        {
            "cell_type": "markdown",
            "source": [
                "- Phase 2:  Write a query to return all the information from the type table for each type in the return of the prior query. Do this by joining an existing table to the subquery"
            ],
            "metadata": {
                "language": "sql",
                "azdata_cell_guid": "485a1c04-51de-401b-b3ca-db960bfb2108"
            },
            "attachments": {}
        },
        {
            "cell_type": "code",
            "source": [
                "--Choose columns to return\n",
                "SELECT t.type_id, t.length, t.width, t.height, d.avg_discount\n",
                "FROM su_type AS t\n",
                "--JOIN the subquery on a commmon field as if it is a table\n",
                "JOIN (\n",
                "    SELECT type_id, AVG(discount_amount) as avg_discount\n",
                "    FROM su_rental AS r\n",
                "    JOIN su_unit u ON r.unit_id = u.unit_id\n",
                "    GROUP BY type_id\n",
                ") AS d ON t.type_id = d.type_id;\n",
                ""
            ],
            "metadata": {
                "language": "sql",
                "azdata_cell_guid": "2e56c7b4-3a55-4dc9-85d4-d1facab9b494"
            },
            "outputs": [],
            "execution_count": null
        },
        {
            "cell_type": "markdown",
            "source": [
                "To check to see if a value is present in the return of another query, we use the IN operator in our WHERE clause. Let's say that we want to return how many units at each facility have been rented out more than once. We will solve this problem in two phases:\n",
                "\n",
                "- Phase 1: Write a query to determine which units have been rented out multiple times"
            ],
            "metadata": {
                "azdata_cell_guid": "6c89cb27-0861-49a4-9daa-ebb9b38bba8b"
            },
            "attachments": {}
        },
        {
            "cell_type": "code",
            "source": [
                "--Get the unit_ids for units that have been rented multiple times\n",
                "SELECT r.unit_id\n",
                "FROM su_rental as r\n",
                "GROUP BY r.unit_id\n",
                "HAVING COUNT(*) > 1\n",
                ""
            ],
            "metadata": {
                "azdata_cell_guid": "c48fe5bf-83c0-40f4-8bcc-70591cc32424",
                "language": "sql",
                "tags": []
            },
            "outputs": [],
            "execution_count": null
        },
        {
            "cell_type": "markdown",
            "source": [
                "- Phase 2: Write a query that counts how many units have been rented out multiple times, by facillity"
            ],
            "metadata": {
                "language": "sql",
                "azdata_cell_guid": "2c95b187-7ee4-4217-9e1d-59adfec2a44b"
            },
            "attachments": {}
        },
        {
            "cell_type": "code",
            "source": [
                "--select the city and count the units\n",
                "SELECT f.city, COUNT(u.unit_id) AS unit_count \n",
                "FROM su_facility as f\n",
                "JOIN su_unit as u ON f.facility_id = u.facility_id\n",
                "--Use the IN operator to only return records from su_unit where the unit_id is in the return of the query we created in phase 1\n",
                "WHERE u.unit_id IN (\n",
                "    SELECT r.unit_id\n",
                "    FROM su_rental as r\n",
                "    GROUP BY r.unit_id\n",
                "    HAVING COUNT(*) > 1\n",
                ")\n",
                "--Group by city since we are doing aggregation\n",
                "GROUP BY f.city"
            ],
            "metadata": {
                "language": "sql",
                "azdata_cell_guid": "e21c7820-ab17-40f2-9462-161c105d2813"
            },
            "outputs": [],
            "execution_count": null
        },
        {
            "cell_type": "markdown",
            "source": [
                "## **Exercises**\n",
                "\n",
                "‼️ If you have not already, I would strongly recommend having access to the ERD Linked in github for the Exercises.\n",
                "\n",
                "1\\. In the below code cell, construct a query to insert the following data to the rental table:\n",
                "|rental_id|unit_id|customer_id|start_date|end_date|payment_option|discount_amount|\n",
                "|---|---|---|---|---|---|---|\n",
                "|151|30|31|2024-02-01|2024-03-01|M|0.00|\n",
                "|152|31|32|2024-02-01|2024-03-01|M|20.00|\n",
                "|153|31|32|2024-02-01|2024-03-01|M|5.00|"
            ],
            "metadata": {
                "language": "sql",
                "azdata_cell_guid": "54ba615e-69b8-4906-ada0-808307526fc4"
            },
            "attachments": {}
        },
        {
            "cell_type": "code",
            "source": [
                "--Your code here\n",
                "INSERT INTO rental (rental_id, unit_id, customer_id, start_date, end_date, payment_option, discount_amount)\n",
                "VALUES \n",
                "(151, 30, 31, '2024-02-01', '2024-03-01', 'M', 0.00),\n",
                "(152, 31, 32, '2024-02-01', '2024-03-01', 'M', 20.00),\n",
                "(153, 31, 32, '2024-02-01', '2024-03-01', 'M', 5.00);\n",
                ""
            ],
            "metadata": {
                "language": "sql",
                "azdata_cell_guid": "82b713ec-0fad-420f-8248-0d54787b3bda"
            },
            "outputs": [],
            "execution_count": null
        },
        {
            "cell_type": "markdown",
            "source": [
                "2\\. In the below code cell, construct a query to update the status of unit number A70 to available."
            ],
            "metadata": {
                "language": "sql",
                "azdata_cell_guid": "345c40a4-3daf-4226-812f-5a17cc775711"
            },
            "attachments": {}
        },
        {
            "cell_type": "code",
            "source": [
                "--Your code here\n",
                "UPDATE units\n",
                "SET status = 'available'\n",
                "WHERE unit_number = 'A70';\n",
                ""
            ],
            "metadata": {
                "language": "sql",
                "azdata_cell_guid": "bdf61b50-6e14-4850-bc14-9323285b8531"
            },
            "outputs": [],
            "execution_count": null
        },
        {
            "cell_type": "markdown",
            "source": [
                "3\\. In the below code cell, construct a query to return the invoice id for the invoice dated 2025-01-15."
            ],
            "metadata": {
                "language": "sql",
                "azdata_cell_guid": "09776e88-5357-4b42-b568-0bf1ea018031"
            },
            "attachments": {}
        },
        {
            "cell_type": "code",
            "source": [
                "--Your code here\n",
                "SELECT invoice_id\n",
                "FROM invoices\n",
                "WHERE invoice_date = '2025-01-15';\n",
                ""
            ],
            "metadata": {
                "language": "sql",
                "azdata_cell_guid": "c6c2eb10-1136-4989-b18f-ab13bda04a8f"
            },
            "outputs": [],
            "execution_count": null
        },
        {
            "cell_type": "markdown",
            "source": [
                "4\\. In the below code cell, construct up a query to delete any payment records associated with an invoice date of 2025-01-15.\n",
                "\n",
                "You must use the above query as a subquery to specify which data should be deleted. Use the IN operator in your WHERE clause to set this criteria."
            ],
            "metadata": {
                "language": "sql",
                "azdata_cell_guid": "f00c8f4c-98ce-4852-a619-58b2b83b534d"
            },
            "attachments": {}
        },
        {
            "cell_type": "code",
            "source": [
                "--Your code here\n",
                "DELETE FROM payments\n",
                "WHERE invoice_id IN (\n",
                "    SELECT invoice_id\n",
                "    FROM invoices\n",
                "    WHERE invoice_date = '2025-01-15'\n",
                ");\n",
                ""
            ],
            "metadata": {
                "language": "sql",
                "azdata_cell_guid": "59948100-d1d9-45e5-a12e-df2fefbdf41d"
            },
            "outputs": [],
            "execution_count": null
        },
        {
            "cell_type": "markdown",
            "source": [
                "## **Scenario**\n",
                "\n",
                "There has been a system error in the Storage Unit database. Customers who signed up for a yearly rental are still showing an end date that is one month after the start date instead of the full year.\n",
                "\n",
                "Construct an update query to update the end date of all rentals with a yearly payment option to be 1 year after the current start date.\n",
                "\n",
                "Do not hard-code dates into your query, instead, research how to use the DATEADD() function in SQL server."
            ],
            "metadata": {
                "language": "sql",
                "azdata_cell_guid": "b64e9de3-6dc6-4d9b-a90c-d5ae084406cf"
            },
            "attachments": {}
        },
        {
            "cell_type": "code",
            "source": [
                "--Your code here\n",
                "UPDATE rental\n",
                "SET end_date = DATEADD(year, 1, start_date)\n",
                "WHERE payment_option = 'Y';\n",
                ""
            ],
            "metadata": {
                "language": "sql",
                "azdata_cell_guid": "53b9c3fe-b394-467f-8f55-178e057628f2"
            },
            "outputs": [],
            "execution_count": null
        }
    ]
}